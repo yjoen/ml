{
 "cells": [
  {
   "cell_type": "markdown",
   "id": "sorted-hollywood",
   "metadata": {},
   "source": [
    "### Lab 11 and 12\n",
    "\n",
    "Implement DynaQ algorithm to solve the maze problem."
   ]
  },
  {
   "cell_type": "code",
   "execution_count": 1,
   "id": "documentary-norfolk",
   "metadata": {},
   "outputs": [],
   "source": [
    "import numpy as np\n",
    "from collections import defaultdict\n",
    "import matplotlib.pyplot as plt\n",
    "import random"
   ]
  },
  {
   "cell_type": "code",
   "execution_count": 2,
   "id": "lovely-fluid",
   "metadata": {},
   "outputs": [],
   "source": [
    "ROWS = 7\n",
    "COLS = 9\n",
    "START = (0,0)\n",
    "DEST = (6,8)\n",
    "BLOCKS = [(2, 2), (3, 2), (4, 2), (0, 4), (6,4), (3, 6), (4, 6), (5, 8)]\n",
    "ACTIONS = [\"left\", \"up\", \"right\", \"down\"]"
   ]
  },
  {
   "cell_type": "code",
   "execution_count": 3,
   "id": "structural-lounge",
   "metadata": {},
   "outputs": [],
   "source": [
    "class Maze:\n",
    "    \"\"\"\n",
    "    This initializes the Maze object. The state is a tuple which represents\n",
    "    the position in the object in the maze, which is the row and column. Update the state if \n",
    "    both row abd col values in the reasonable range (0 <= r <= ROWS-1, 0<= c <= CLOS-1),\n",
    "    otherwise, ignore the state value.\n",
    "    \n",
    "    \"\"\"\n",
    "    def __init__(self, rows=ROWS, cols=COLS, start=START, dest=DEST, blocks=BLOCKS):\n",
    "        self.rows = rows\n",
    "        self.cols = cols\n",
    "        self.start = start\n",
    "        self.dest = dest\n",
    "        self.blocks = blocks\n",
    "        self.state = start\n",
    "        self.end = False\n",
    "        # init maze\n",
    "        self.maze = np.zeros((self.rows, self.cols))\n",
    "        for b in self.blocks:\n",
    "            self.maze[b] = -1\n",
    "            \n",
    "    def nxtState(self, action):\n",
    "        r, c = self.state\n",
    "        if action == \"left\":\n",
    "            c -= 1\n",
    "        elif action == \"right\":\n",
    "            c += 1\n",
    "        elif action == \"up\":\n",
    "            r -= 1\n",
    "        else:\n",
    "            r += 1\n",
    "        \n",
    "        if (r >= 0 and r <= self.rows-1) and (c >= 0 and c <= self.cols-1):\n",
    "            if (r, c) not in self.blocks:\n",
    "                self.state = (r, c)\n",
    "        return self.state\n",
    "    \n",
    "    def giveReward(self):\n",
    "        if self.state == self.dest:\n",
    "            self.end = True\n",
    "            return 1\n",
    "        else:\n",
    "            return 0\n",
    "        \n",
    "    def showMaze(self):\n",
    "        self.maze[self.state] = 1\n",
    "        for i in range(0, self.rows):\n",
    "            print('-------------------------------------')\n",
    "            output = '| '\n",
    "            for j in range(0, self.cols):\n",
    "                if self.maze[i, j] == 1:\n",
    "                    obj = '*'\n",
    "                if self.maze[i, j] == -1:\n",
    "                    obj = 'z'\n",
    "                if self.maze[i, j] == 0:\n",
    "                    obj = '0'\n",
    "                output += obj + ' | '\n",
    "            print(output)\n",
    "        print('-------------------------------------')"
   ]
  },
  {
   "cell_type": "code",
   "execution_count": 4,
   "id": "solved-glance",
   "metadata": {},
   "outputs": [
    {
     "name": "stdout",
     "output_type": "stream",
     "text": [
      "-------------------------------------\n",
      "| * | 0 | 0 | 0 | z | 0 | 0 | 0 | 0 | \n",
      "-------------------------------------\n",
      "| 0 | 0 | 0 | 0 | 0 | 0 | 0 | 0 | 0 | \n",
      "-------------------------------------\n",
      "| 0 | 0 | z | 0 | 0 | 0 | 0 | 0 | 0 | \n",
      "-------------------------------------\n",
      "| 0 | 0 | z | 0 | 0 | 0 | z | 0 | 0 | \n",
      "-------------------------------------\n",
      "| 0 | 0 | z | 0 | 0 | 0 | z | 0 | 0 | \n",
      "-------------------------------------\n",
      "| 0 | 0 | 0 | 0 | 0 | 0 | 0 | 0 | z | \n",
      "-------------------------------------\n",
      "| 0 | 0 | 0 | 0 | z | 0 | 0 | 0 | 0 | \n",
      "-------------------------------------\n"
     ]
    }
   ],
   "source": [
    "m = Maze()\n",
    "m.showMaze()"
   ]
  },
  {
   "cell_type": "code",
   "execution_count": 37,
   "id": "forty-wyoming",
   "metadata": {},
   "outputs": [],
   "source": [
    "class DynaQ:\n",
    "    \n",
    "    def __init__(self, maze, exp_rate=0.3, lr=0.1, n_plannings=5, episodes=1):\n",
    "        self.maze = maze\n",
    "        self.state = START\n",
    "        self.actions = ACTIONS\n",
    "        self.state_actions = []  # state & action track\n",
    "        self.exp_rate = exp_rate\n",
    "        self.lr = lr\n",
    "        \n",
    "        self.n_plannings = n_plannings\n",
    "        self.episodes = episodes  # number of episodes going to play\n",
    "        self.steps_per_episode = []\n",
    "        \n",
    "        self.Q_values = {}\n",
    "        # model function\n",
    "        self.model = {}\n",
    "        for row in range(ROWS):\n",
    "            for col in range(COLS):\n",
    "                self.Q_values[(row, col)] = {}\n",
    "                for a in self.actions:\n",
    "                    self.Q_values[(row, col)][a] = 0\n",
    "        \n",
    "    def chooseAction(self):\n",
    "        # epsilon-greedy\n",
    "        mx_nxt_reward = -999\n",
    "        action = \"\"\n",
    "        \n",
    "        if np.random.uniform(0, 1) <= self.exp_rate:\n",
    "            action = np.random.choice(self.actions)\n",
    "        else:\n",
    "            # greedy action\n",
    "            current_position = self.state\n",
    "            # if all actions have same value, then select randomly\n",
    "            if len(set(self.Q_values[current_position].values())) == 1:\n",
    "                action = np.random.choice(self.actions)\n",
    "            else:\n",
    "                for a in self.actions:\n",
    "                    nxt_reward = self.Q_values[current_position][a]\n",
    "                    if nxt_reward >= mx_nxt_reward:\n",
    "                        action = a\n",
    "                        mx_nxt_reward = nxt_reward\n",
    "        return action\n",
    "    \n",
    "    def reset(self):\n",
    "        self.maze = Maze()\n",
    "        self.state = START\n",
    "        self.state_actions = []\n",
    "    \n",
    "    def play(self):\n",
    "        self.steps_per_episode = []  \n",
    "        \n",
    "        for ep in range(self.episodes):    \n",
    "            while not self.maze.end:\n",
    "\n",
    "                action = self.chooseAction()\n",
    "                self.state_actions.append((self.state, action))\n",
    "\n",
    "                nxtState = self.maze.nxtState(action)\n",
    "                reward = self.maze.giveReward()\n",
    "                # update Q-value\n",
    "                self.Q_values[self.state][action] += self.lr*(reward + np.max(list(self.Q_values[nxtState].values())) - self.Q_values[self.state][action])\n",
    "\n",
    "                # update model\n",
    "                if self.state not in self.model.keys():\n",
    "                    self.model[self.state] = {}\n",
    "                self.model[self.state][action] = (reward, nxtState)\n",
    "                self.state = nxtState\n",
    "\n",
    "                # loop n times to randomly update Q-value\n",
    "                for _ in range(self.n_plannings):\n",
    "                    # randomly choose an state\n",
    "                    rand_idx = np.random.choice(range(len(self.model.keys())))\n",
    "                    _state = list(self.model)[rand_idx]\n",
    "                    # randomly choose an action\n",
    "                    rand_idx = np.random.choice(range(len(self.model[_state].keys())))\n",
    "                    _action = list(self.model[_state])[rand_idx]\n",
    "\n",
    "                    _reward, _nxtState = self.model[_state][_action]\n",
    "\n",
    "                    self.Q_values[_state][_action] += self.lr*(_reward + np.max(list(self.Q_values[_nxtState].values())) - self.Q_values[_state][_action])       \n",
    "            # end of game\n",
    "            if ep % 10 == 0:\n",
    "                print(\"episode\", ep)\n",
    "            self.steps_per_episode.append(len(self.state_actions))\n",
    "            self.reset()\n",
    "                  "
   ]
  },
  {
   "cell_type": "code",
   "execution_count": 38,
   "id": "virgin-horizontal",
   "metadata": {},
   "outputs": [],
   "source": [
    "N_EPISODES = 50"
   ]
  },
  {
   "cell_type": "code",
   "execution_count": 39,
   "id": "rural-advisory",
   "metadata": {},
   "outputs": [
    {
     "name": "stdout",
     "output_type": "stream",
     "text": [
      "episode 0\n",
      "episode 10\n",
      "episode 20\n",
      "episode 30\n",
      "episode 40\n"
     ]
    }
   ],
   "source": [
    "dyna = DynaQ(m, n_plannings=0, episodes=N_EPISODES)\n",
    "dyna.play()\n",
    "\n",
    "steps_episode_0 = dyna.steps_per_episode"
   ]
  },
  {
   "cell_type": "code",
   "execution_count": 40,
   "id": "isolated-month",
   "metadata": {},
   "outputs": [
    {
     "name": "stdout",
     "output_type": "stream",
     "text": [
      "episode 0\n",
      "episode 10\n",
      "episode 20\n",
      "episode 30\n",
      "episode 40\n"
     ]
    }
   ],
   "source": [
    "dyna5 = DynaQ(m, n_plannings=5, episodes=N_EPISODES)\n",
    "dyna5.play()\n",
    "\n",
    "steps_episode_5 = dyna5.steps_per_episode"
   ]
  },
  {
   "cell_type": "code",
   "execution_count": 41,
   "id": "active-might",
   "metadata": {},
   "outputs": [
    {
     "name": "stdout",
     "output_type": "stream",
     "text": [
      "episode 0\n",
      "episode 10\n",
      "episode 20\n",
      "episode 30\n",
      "episode 40\n"
     ]
    }
   ],
   "source": [
    "dyna50 = DynaQ(m, n_plannings=50, episodes=N_EPISODES)\n",
    "dyna50.play()\n",
    "\n",
    "steps_episode_50 = dyna50.steps_per_episode"
   ]
  },
  {
   "cell_type": "code",
   "execution_count": 42,
   "id": "supported-british",
   "metadata": {},
   "outputs": [
    {
     "data": {
      "text/plain": [
       "<matplotlib.legend.Legend at 0x7fae44420790>"
      ]
     },
     "execution_count": 42,
     "metadata": {},
     "output_type": "execute_result"
    },
    {
     "data": {
      "image/png": "[encoded data removed]",
      "text/plain": [
       "<Figure size 720x432 with 1 Axes>"
      ]
     },
     "metadata": {
      "needs_background": "light"
     },
     "output_type": "display_data"
    }
   ],
   "source": [
    "plt.figure(figsize=[10, 6])\n",
    "\n",
    "plt.ylim(0, 600)\n",
    "plt.plot(range(N_EPISODES), steps_episode_0, label=\"step=0\")\n",
    "plt.plot(range(N_EPISODES), steps_episode_5, label=\"step=5\")\n",
    "plt.plot(range(N_EPISODES), steps_episode_50, label=\"step=50\")\n",
    "\n",
    "plt.legend()"
   ]
  },
  {
   "cell_type": "markdown",
   "id": "encouraging-boring",
   "metadata": {},
   "source": [
    "### Exercise 8.2\n",
    "\n",
    "Why did the Dyna agent with exploration bonus, Dyna-Q+, perform better in the first phase as well as in the second phase of the blocking and shortcut experiments?\n",
    "\n",
    "This is a question for you to think about when you are working on the assignment 4 Question 2."
   ]
  },
  {
   "cell_type": "code",
   "execution_count": null,
   "id": "regular-hollow",
   "metadata": {},
   "outputs": [],
   "source": []
  }
 ],
 "metadata": {
  "kernelspec": {
   "display_name": "Python 3",
   "language": "python",
   "name": "python3"
  },
  "language_info": {
   "codemirror_mode": {
    "name": "ipython",
    "version": 3
   },
   "file_extension": ".py",
   "mimetype": "text/x-python",
   "name": "python",
   "nbconvert_exporter": "python",
   "pygments_lexer": "ipython3",
   "version": "3.8.3"
  }
 },
 "nbformat": 4,
 "nbformat_minor": 5
}
