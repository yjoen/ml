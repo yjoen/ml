{
 "cells": [
  {
   "cell_type": "markdown",
   "id": "proper-honey",
   "metadata": {},
   "source": [
    "## AI - Prioritized Sweep Algorithm\n",
    "\n"
   ]
  },
  {
   "cell_type": "markdown",
   "id": "twelve-desperate",
   "metadata": {},
   "source": [
    "### Task Description\n",
    "---\n",
    "<img style=\"float:right\" src=\"A4.jpg\" alt=\"drawing\" width=\"500\"/>\n",
    "\n",
    " > Consider a simple grid shown a map for you to your college for a class. The map is shown on the right. There are four actions, `up`, `down`, `right`, and `left` in each of states. You (like an agent in RL algorithm), take the actions deterministically to the corresponding neighboring states, except when movement is blocked by a building (Green color blocks) or the edge of the map, in which case the you stay where it is. Reward is zero on all transitions (like crossing streets, etc), except those into the goal state, which is the university, on which it is +1. After reaching the goal state `Univ`, you complete one episode, and then begin a new episode from state (location) `You` at (0,0).\n",
    " \n",
    " In this task, one of implementations of Dyna-Q algorithms, PrioritzedSweepAlgorithm, is implemented based on the models given as the map of your college.\n",
    " \n",
    " Let's treat this map as a grid. In this particular case (shown on the diagram), there are following properties:\n",
    " \n",
    " ROWS = 7\n",
    " \n",
    " COLS = 9\n",
    " \n",
    " YOU = (0,0)\n",
    " \n",
    " UNIV = (6,8)\n",
    " \n",
    " BUILDINGS = [(2, 2), (3, 2), (4, 2), (0, 4), (6,4), (3, 6), (4, 6), (5, 8)]\n",
    "\n",
    " ACTIONS = [\"left\", \"up\", \"right\", \"down\"]\n",
    " \n",
    "---\n",
    ">\n",
    "\n",
    "\n"
   ]
  },
  {
   "cell_type": "code",
   "execution_count": 1,
   "id": "integrated-campaign",
   "metadata": {},
   "outputs": [],
   "source": [
    "import numpy as np\n",
    "import matplotlib.pyplot as plt\n",
    "from collections import defaultdict"
   ]
  },
  {
   "cell_type": "code",
   "execution_count": 2,
   "id": "starting-pointer",
   "metadata": {},
   "outputs": [],
   "source": [
    "ROWS = 7\n",
    "COLS = 9\n",
    "YOU = (0,0)\n",
    "UNIV = (6,8)\n",
    "BUILDINGS = [(2, 2), (3, 2), (4, 2), (0, 4), (6,4), (3, 6), (4, 6), (5, 8)]\n",
    "ACTIONS = [\"left\", \"up\", \"right\", \"down\"]"
   ]
  },
  {
   "cell_type": "markdown",
   "id": "mighty-effectiveness",
   "metadata": {},
   "source": [
    "### Models"
   ]
  },
  {
   "cell_type": "code",
   "execution_count": 3,
   "id": "tropical-photograph",
   "metadata": {},
   "outputs": [],
   "source": [
    "class UnivMap:\n",
    "    \"\"\"\n",
    "    This initializes the UnivMap object. The state is a tuple which represents\n",
    "    the position in the map, which is the row and column. Update the state if \n",
    "    both row abd col values in the reasonable range (0 <= r <= ROWS-1, 0<= c <= CLOS-1),\n",
    "    otherwise, ignore the state value.\n",
    "    \n",
    "    \"\"\"\n",
    "    def __init__(self, rows=ROWS, cols=COLS, start=YOU, dest=UNIV, buildings=BUILDINGS):\n",
    "        self.rows = rows\n",
    "        self.cols = cols\n",
    "        self.you = start\n",
    "        self.univ = dest\n",
    "        self.buildings = buildings\n",
    "        self.state = start\n",
    "        self.end = False\n",
    "        # init univMap\n",
    "        self.univMap = np.zeros((self.rows, self.cols))\n",
    "        for b in self.buildings:\n",
    "            self.univMap[b] = -1\n",
    "            \n",
    "    def nxtState(self, action):\n",
    "        r, c = self.state\n",
    "        if action == \"left\":\n",
    "            c -= 1\n",
    "        elif action == \"right\":\n",
    "            c += 1\n",
    "        elif action == \"up\":\n",
    "            r -= 1\n",
    "        else:\n",
    "            r += 1\n",
    "        \n",
    "        if (r >= 0 and r <= self.rows-1) and (c >= 0 and c <= self.cols-1):\n",
    "            if (r, c) not in self.buildings:\n",
    "                self.state = (r, c)\n",
    "        return self.state\n",
    "    \n",
    "    def giveReward(self):\n",
    "        if self.state == self.univ:\n",
    "            self.end = True\n",
    "            return 1\n",
    "        else:\n",
    "            return 0\n",
    "        \n",
    "    def showUnivMap(self):\n",
    "        self.univMap[self.state] = 1\n",
    "        for i in range(self.rows-1,-1, -1):\n",
    "            print('-------------------------------------')\n",
    "            out = '| '\n",
    "            for j in range(0, self.cols):\n",
    "                #print(self.univMap[i,j], i, j)\n",
    "                if self.univMap[i, j] == 1:\n",
    "                    token = '*'\n",
    "                if self.univMap[i, j] == -1:\n",
    "                    token = 'z'\n",
    "                if self.univMap[i, j] == 0:\n",
    "                    token = '0'\n",
    "                out += token + ' | '\n",
    "            print(out)\n",
    "        print('-------------------------------------')"
   ]
  },
  {
   "cell_type": "code",
   "execution_count": 4,
   "id": "detailed-wallace",
   "metadata": {},
   "outputs": [
    {
     "name": "stdout",
     "output_type": "stream",
     "text": [
      "-------------------------------------\n",
      "| 0 | 0 | 0 | 0 | z | 0 | 0 | 0 | 0 | \n",
      "-------------------------------------\n",
      "| 0 | 0 | 0 | 0 | 0 | 0 | 0 | 0 | z | \n",
      "-------------------------------------\n",
      "| 0 | 0 | z | 0 | 0 | 0 | z | 0 | 0 | \n",
      "-------------------------------------\n",
      "| 0 | 0 | z | 0 | 0 | 0 | z | 0 | 0 | \n",
      "-------------------------------------\n",
      "| 0 | 0 | z | 0 | 0 | 0 | 0 | 0 | 0 | \n",
      "-------------------------------------\n",
      "| 0 | 0 | 0 | 0 | 0 | 0 | 0 | 0 | 0 | \n",
      "-------------------------------------\n",
      "| * | 0 | 0 | 0 | z | 0 | 0 | 0 | 0 | \n",
      "-------------------------------------\n"
     ]
    }
   ],
   "source": [
    "u = UnivMap(ROWS,COLS,YOU,UNIV,BUILDINGS)\n",
    "u.showUnivMap()"
   ]
  },
  {
   "cell_type": "markdown",
   "id": "early-microphone",
   "metadata": {},
   "source": [
    "### Prioritized Sweep Algorithm"
   ]
  },
  {
   "cell_type": "code",
   "execution_count": 16,
   "id": "civic-bible",
   "metadata": {},
   "outputs": [],
   "source": [
    "from queue import PriorityQueue"
   ]
  },
  {
   "cell_type": "code",
   "execution_count": 17,
   "id": "associate-formula",
   "metadata": {},
   "outputs": [],
   "source": [
    "class PrioritizedSweep:\n",
    "    def __init__(self, univMap, n_plannings, episodes=1, alpha=0.1, epsilon = 0.1, gamma = 0.95, theta=0.0, k=0.001):\n",
    "        self.univMap = univMap\n",
    "        self.alpha = alpha\n",
    "        self.epsilon = epsilon\n",
    "        self.gamma = gamma\n",
    "        self.theta = theta\n",
    "        self.actions = ACTIONS\n",
    "        self.n_plannings = n_plannings\n",
    "        self.episodes= episodes\n",
    "        self.model = dict()\n",
    "        self.Q_values = {}\n",
    "        \n",
    "        # maintain a priority queue\n",
    "        self.priorityQueue = PriorityQueue()\n",
    "        \n",
    "        self.state_actions = []  # state & action track\n",
    "        \n",
    "        self.k = k\n",
    "        self.tao_dict = defaultdict(int)\n",
    "        \n",
    "        self.model = {}\n",
    "        for row in range(ROWS-1, -1, -1):\n",
    "            for col in range(COLS):\n",
    "                self.Q_values[(row, col)] = {}\n",
    "                for a in self.actions:\n",
    "                    self.Q_values[(row, col)][a] = 0\n",
    "\n",
    "    def bonus(self, state, action):\n",
    "        return self.k*np.sqrt(self.tao_dict[(state,action)])\n",
    "    \n",
    "    def reset(self):\n",
    "        self.univMap = UnivMap(ROWS,COLS,YOU,UNIV,BUILDINGS)\n",
    "        self.state = YOU\n",
    "        self.state_actions = []\n",
    "        self.priorityQueue = PriorityQueue()\n",
    "        \n",
    "    def chooseAction(self):\n",
    "        # epsilon-greedy\n",
    "        mx_nxt_reward = -999\n",
    "        action = \"\"\n",
    "        \n",
    "        if np.random.uniform(0, 1) <= self.alpha:\n",
    "            action = np.random.choice(self.actions)\n",
    "        else:\n",
    "            # greedy action\n",
    "            current_position = self.state\n",
    "            # if all actions have same value, then select randomly\n",
    "            if len(set(self.Q_values[current_position].values())) == 1:\n",
    "                action = np.random.choice(self.actions)\n",
    "            else:\n",
    "                for a in self.actions:\n",
    "                    nxt_reward = self.Q_values[current_position][a]\n",
    "                    if nxt_reward >= mx_nxt_reward:\n",
    "                        action = a\n",
    "                        mx_nxt_reward = nxt_reward\n",
    "        for t in self.tao_dict.keys():\n",
    "            if t != (self.state, action):\n",
    "                self.tao_dict[t] += 1\n",
    "        self.tao_dict[(self.state, action)] = 0\n",
    "        \n",
    "        return action\n",
    "    \n",
    "    # add a @state-@action pair into the priority queue with priority @priority\n",
    "    def insert(self, priority, state, action):\n",
    "        self.priorityQueue.put((priority, (state, action)))\n",
    "\n",
    "    # @return: whether the priority queue is empty\n",
    "    def empty(self):\n",
    "        return self.priorityQueue.empty()\n",
    "    \n",
    "    def play(self):\n",
    "        self.steps_per_episode = []  \n",
    "        \n",
    "        for ep in range(self.episodes):    \n",
    "            while not self.univMap.end:\n",
    "                action = self.chooseAction()\n",
    "                self.state_actions.append((self.state, action))\n",
    "\n",
    "                nxtState = self.univMap.nxtState(action)\n",
    "                reward = self.univMap.giveReward()\n",
    "                # add bonus reward\n",
    "                bonus_reward = self.bonus(self.state, action)\n",
    "                reward += bonus_reward\n",
    "                \n",
    "                # update model\n",
    "                if self.state not in self.model.keys():\n",
    "                    self.model[self.state] = {}\n",
    "                self.model[self.state][action] = (reward, nxtState)\n",
    "                \n",
    "                # get priority\n",
    "                priority = np.abs(reward + self.gamma * \n",
    "                                  np.max(list(self.Q_values[nxtState].values())) -\n",
    "                                 self.Q_values[self.state][action])\n",
    "                \n",
    "                if priority > self.theta:\n",
    "                    self.insert(priority, self.state, action)\n",
    "\n",
    "                # loop n times to randomly update Q-value\n",
    "                for _ in range(self.n_plannings):\n",
    "                    # get priority, state, action\n",
    "                    if self.priorityQueue.qsize() > 0:\n",
    "                        # get priority state and action\n",
    "                        priority, (state, action) = self.priorityQueue.get()\n",
    "                        # get the retuen value from the model, reward and newState\n",
    "                        reward, newState = self.model[state][action]\n",
    "                        # update Q value\n",
    "                        self.Q_values[state][action] += self.gamma*(reward + np.max(list(self.Q_values[newState].values())) \n",
    "                                                             - self.Q_values[state][action])\n",
    "                        \n",
    "                        # iterate through all previous state-action pairs\n",
    "                        for _state, _action in self.state_actions:\n",
    "                            _reward, _newState = self.model[_state][_action]\n",
    "                            priority = np.abs(_reward + self.gamma * \n",
    "                                  np.max(list(self.Q_values[_newState].values())) -\n",
    "                                 self.Q_values[_state][_action])\n",
    "                            # update priority queue\n",
    "                            if priority > self.theta:\n",
    "                                self.insert(priority, _state, _action)\n",
    "                \n",
    "                self.state = nxtState\n",
    "            # end of game\n",
    "            if ep % 10 == 0:\n",
    "                print(\"episode\", ep)\n",
    "            self.steps_per_episode.append(len(self.state_actions))\n",
    "            self.reset()"
   ]
  },
  {
   "cell_type": "code",
   "execution_count": 18,
   "id": "answering-april",
   "metadata": {},
   "outputs": [],
   "source": [
    "student_p = PrioritizedSweep(u, n_plannings=1, episodes=N_EPISODES)"
   ]
  },
  {
   "cell_type": "code",
   "execution_count": 19,
   "id": "pacific-bowling",
   "metadata": {},
   "outputs": [
    {
     "name": "stdout",
     "output_type": "stream",
     "text": [
      "episode 0\n",
      "episode 10\n",
      "episode 20\n",
      "episode 30\n",
      "episode 40\n"
     ]
    }
   ],
   "source": [
    "student_p.play()\n",
    "\n",
    "steps_episode_0_p = student_p.steps_per_episode"
   ]
  },
  {
   "cell_type": "code",
   "execution_count": 20,
   "id": "intimate-start",
   "metadata": {},
   "outputs": [
    {
     "name": "stdout",
     "output_type": "stream",
     "text": [
      "episode 0\n",
      "episode 10\n",
      "episode 20\n",
      "episode 30\n",
      "episode 40\n"
     ]
    }
   ],
   "source": [
    "student_p = PrioritizedSweep(u, n_plannings=5, episodes=N_EPISODES)\n",
    "student_p.play()\n",
    "\n",
    "steps_episode_5_p = student_p.steps_per_episode"
   ]
  },
  {
   "cell_type": "code",
   "execution_count": 21,
   "id": "certain-revolution",
   "metadata": {},
   "outputs": [
    {
     "name": "stdout",
     "output_type": "stream",
     "text": [
      "episode 0\n",
      "episode 10\n",
      "episode 20\n",
      "episode 30\n",
      "episode 40\n"
     ]
    }
   ],
   "source": [
    "student_p = PrioritizedSweep(u, n_plannings=50, episodes=N_EPISODES)\n",
    "student_p.play()\n",
    "\n",
    "steps_episode_50_p = student_p.steps_per_episode"
   ]
  },
  {
   "cell_type": "code",
   "execution_count": 23,
   "id": "foreign-atlanta",
   "metadata": {},
   "outputs": [
    {
     "data": {
      "text/plain": [
       "<matplotlib.legend.Legend at 0x7fa4a3241370>"
      ]
     },
     "execution_count": 23,
     "metadata": {},
     "output_type": "execute_result"
    },
    {
     "data": {
      "image/png": "[encoded data removed]",
      "text/plain": [
       "<Figure size 720x432 with 1 Axes>"
      ]
     },
     "metadata": {
      "needs_background": "light"
     },
     "output_type": "display_data"
    }
   ],
   "source": [
    "plt.figure(figsize=[10, 6])\n",
    "\n",
    "plt.ylim(0, 600)\n",
    "plt.plot(range(N_EPISODES), steps_episode_0_p, label=\"planning=0\")\n",
    "plt.plot(range(N_EPISODES), steps_episode_5_p, label=\"planning=5_byygb\")\n",
    "plt.plot(range(N_EPISODES), steps_episode_50_p, label=\"planning=50\")\n",
    "\n",
    "plt.legend()"
   ]
  },
  {
   "cell_type": "code",
   "execution_count": null,
   "id": "monthly-gentleman",
   "metadata": {},
   "outputs": [],
   "source": []
  }
 ],
 "metadata": {
  "kernelspec": {
   "display_name": "Python 3",
   "language": "python",
   "name": "python3"
  },
  "language_info": {
   "codemirror_mode": {
    "name": "ipython",
    "version": 3
   },
   "file_extension": ".py",
   "mimetype": "text/x-python",
   "name": "python",
   "nbconvert_exporter": "python",
   "pygments_lexer": "ipython3",
   "version": "3.8.3"
  }
 },
 "nbformat": 4,
 "nbformat_minor": 5
}
