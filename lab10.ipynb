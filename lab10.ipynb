{
 "cells": [
  {
   "cell_type": "markdown",
   "id": "resistant-liabilities",
   "metadata": {},
   "source": [
    "### Lab 10 - n-step TD methods"
   ]
  },
  {
   "cell_type": "markdown",
   "id": "dying-pillow",
   "metadata": {},
   "source": [
    "#### Exercise 7.1 \n",
    "\n",
    "In Chapter 6 we noted that the Monte Carlo error can be written as the sum of TD errors (6.6) if the value estimates don’t change from step to step. Show that the n-step error used in (7.2) can also be written as a sum TD errors (again if the value estimates don’t change) generalizing the earlier result."
   ]
  },
  {
   "cell_type": "markdown",
   "id": "straight-action",
   "metadata": {},
   "source": [
    "TD errors (6.6) is given as: $$ \\delta_t = R_{t+1} + \\gamma V_{t}(S_{t+1}) - V_t(S_t) $$, and \n",
    "    $$ G_t - V(S_t) = R_{t+1} + \\gamma G_{t+1} - V(S_t) + \\gamma V(S_{t+1}) - \\gamma V(S_{t+1}) \\\\\n",
    "                    = \\delta_t + \\gamma (G_{t+1} - V(S_{t+1})) \\\\\n",
    "                    = \\delta_t + \\gamma \\delta_{t+1} + \\gamma^2(G_{t+2} - V(S_{t+1})) \\\\\n",
    "                    = \\delta_t + \\gamma \\delta_{t+1} + \\gamma^2 \\delta_{t+2} + ... + \\gamma^{T-t-1} \\delta_{T-1} + \\gamma^{T-t} (G_T - V(S_T)) \\\\\n",
    "                    = \\delta_t + \\gamma \\delta_{t+1} + \\gamma^2 \\delta_{t+2} + ... + \\gamma^{T-t-1} \\delta_{T-1} + \\gamma^{T-t} (0 - 0) \\\\ \n",
    "                    = \\sum_{k=t}^{T-1} \\gamma^{k-t} \\delta_k\n",
    "    $$"
   ]
  },
  {
   "cell_type": "markdown",
   "id": "systematic-milton",
   "metadata": {},
   "source": [
    "#### Solution:\n",
    "\n",
    "Update of n-step TD: $$ V_{t+n}(S_t) = V_{t+n-1}(S_t) + \\alpha [G_{t:t+n} - V_{t+n-1}(S_t)] $$\n",
    "\n",
    "n-step errors: $$G_{t:t+n} - V_{t+n-1}(S_t) = R_{t+1} + \\gamma R_{t+2} + ... + \\gamma^{n-1} R_{t+n} + \\gamma^n V_{t+n-1}(S_{t+n}) - V_{t+n-1}(S_t) \\\\\n",
    "        = R_{t+1} + \\gamma R_{t+2} + ... + \\gamma^{n-1} R_{t+n} + \\gamma^n V(S_{t+n}) - V(S_t) \\\\\n",
    "        = \\delta_t + \\gamma \\delta_{t+1} + \\gamma^2 \\delta_{t+2} + ... + \\gamma^{t+n} (V(S_{t+n}) - V(S_{t+n})) \\\\\n",
    "        = \\sum_{k=t}^{t+n-1} \\gamma^{k-t} \\delta_k $$, where assume V will not change after t."
   ]
  },
  {
   "cell_type": "markdown",
   "id": "independent-pitch",
   "metadata": {},
   "source": [
    "#### Exercise 7.4 \n",
    "\n",
    "Prove that the n-step return of Sarsa (7.4) can be written exactly in terms of a novel TD error, as:\n",
    "\n",
    "$$ G_{t:t+n} = Q_{t-1}(S_t, A_t) + \\sum_{k=t}^{\\min(t+n, T)-1} \\gamma^{k-t} [R_{k+1} + \\gamma Q_k (S_{k+1}, A_{k+1}) - Q_{k-1} (S_k, A_k)] $$"
   ]
  },
  {
   "cell_type": "markdown",
   "id": "convenient-bishop",
   "metadata": {},
   "source": [
    "#### solution:\n",
    "\n",
    "$$ G_{t:t+n} = R_{t+1} + \\gamma R_{t+2} + \\gamma^{n-1} R_{t+n} + \\gamma^n Q_{t+n-1}(S_{t+n}, A_{t+n}), \\forall n \\ge 1, t n \\ge 1, 0 \\ne t < T-n.$$\n",
    "\n",
    "$$ G_{t:t+n} = R_{t+1} + \\gamma Q_t(S_{t+1}, A_{t+1}) - \\gamma Q_t (S_{t+1}, A_{t+1}) - Q_{t-1}(S_t, A_t) + Q_{t-1}(S_t, A_t) + \\gamma R_{t+2} + \\gamma^2 Q_{t+1}(S_{t+2}, A_{t+2}) - \\gamma^2 Q_{t+1}(S_{t+2}, A_{t+2}) + ... \\\\\n",
    "    = Q_{t-1}(S_t, A_t) + \\sum_{k=t}^{\\min(t+n, T) -1} \\gamma^{k-t} [R_{k+1} + \\gamma Q_k(S_{k+1}, A_{k+1}) - Q_{k-1}(S_k, A_k)] $$"
   ]
  },
  {
   "cell_type": "code",
   "execution_count": null,
   "id": "vital-parade",
   "metadata": {},
   "outputs": [],
   "source": []
  }
 ],
 "metadata": {
  "kernelspec": {
   "display_name": "Python 3",
   "language": "python",
   "name": "python3"
  },
  "language_info": {
   "codemirror_mode": {
    "name": "ipython",
    "version": 3
   },
   "file_extension": ".py",
   "mimetype": "text/x-python",
   "name": "python",
   "nbconvert_exporter": "python",
   "pygments_lexer": "ipython3",
   "version": "3.8.3"
  }
 },
 "nbformat": 4,
 "nbformat_minor": 5
}
