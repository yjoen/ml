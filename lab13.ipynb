{
 "cells": [
  {
   "cell_type": "markdown",
   "id": "critical-representative",
   "metadata": {},
   "source": [
    "### Lab 13"
   ]
  },
  {
   "cell_type": "markdown",
   "id": "broad-reward",
   "metadata": {},
   "source": [
    "#### Exercise 1 -- Read the text book Section 9.5.4 on page 217 to 221 and answer the following question\n",
    "\n",
    "Suppose we believe that one of two state dimensions is more likely to have an effect on the value function than is the other, that generalization should be primarily across this dimension rather than along it. What kind of tilings could be used to take advantage of this prior knowledge?"
   ]
  },
  {
   "cell_type": "markdown",
   "id": "threaded-equivalent",
   "metadata": {},
   "source": [
    "#### Exercise 2\n",
    "\n",
    "What n and $c_{i,j}$ produce the feature vectors $x(s)=(1,s_1,s_2,s_1s_2,s^2_1,s^2_2,\n",
    "s_1s_2^2, s^2_1s_2, s^2_1s_2^2)^T$?"
   ]
  },
  {
   "cell_type": "code",
   "execution_count": null,
   "id": "periodic-feeding",
   "metadata": {},
   "outputs": [],
   "source": []
  }
 ],
 "metadata": {
  "kernelspec": {
   "display_name": "Python 3",
   "language": "python",
   "name": "python3"
  },
  "language_info": {
   "codemirror_mode": {
    "name": "ipython",
    "version": 3
   },
   "file_extension": ".py",
   "mimetype": "text/x-python",
   "name": "python",
   "nbconvert_exporter": "python",
   "pygments_lexer": "ipython3",
   "version": "3.8.3"
  }
 },
 "nbformat": 4,
 "nbformat_minor": 5
}
